{
 "cells": [
  {
   "cell_type": "code",
   "execution_count": 2,
   "metadata": {},
   "outputs": [
    {
     "ename": "ModuleNotFoundError",
     "evalue": "No module named 'pandas'",
     "output_type": "error",
     "traceback": [
      "\u001b[1;31m---------------------------------------------------------------------------\u001b[0m",
      "\u001b[1;31mModuleNotFoundError\u001b[0m                       Traceback (most recent call last)",
      "\u001b[1;32mc:\\Users\\iskat\\Desktop\\lotuselise3.work\\Module 14\\Bikesharing\\NYC_CitiBike_Challenge.ipynb Cell 1\u001b[0m in \u001b[0;36m<cell line: 1>\u001b[1;34m()\u001b[0m\n\u001b[1;32m----> <a href='vscode-notebook-cell:/c%3A/Users/iskat/Desktop/lotuselise3.work/Module%2014/Bikesharing/NYC_CitiBike_Challenge.ipynb#W0sZmlsZQ%3D%3D?line=0'>1</a>\u001b[0m \u001b[39mimport\u001b[39;00m \u001b[39mpandas\u001b[39;00m \u001b[39mas\u001b[39;00m \u001b[39mpd\u001b[39;00m\n",
      "\u001b[1;31mModuleNotFoundError\u001b[0m: No module named 'pandas'"
     ]
    }
   ],
   "source": [
    "import pandas as pd"
   ]
  },
  {
   "cell_type": "code",
   "execution_count": null,
   "metadata": {},
   "outputs": [],
   "source": [
    "# 1. Create a DataFrame for the 201908-citibike-tripdata data. \n",
    "nyc_citibike_df = pd.read_csv(\"201908-citibike-tripdata.csv\")\n",
    "nyc_citibike_df"
   ]
  },
  {
   "cell_type": "code",
   "execution_count": null,
   "metadata": {},
   "outputs": [],
   "source": [
    "# 2. Check the datatypes of your columns. \n",
    "nyc_citibike_df.info()"
   ]
  },
  {
   "cell_type": "code",
   "execution_count": null,
   "metadata": {},
   "outputs": [],
   "source": [
    "# 3. Convert the 'tripduration' column to datetime datatype.\n",
    "new_tripduration = nyc_citibike_df.tripduration\n",
    "# print(new_tripduration)\n",
    "\n",
    "new_tripduration_datetime = pd.to_datetime(new_tripduration, unit='s')\n",
    "# print(new_tripduration_datetime)\n",
    "\n",
    "# Add a new column for the converted trip duration\n",
    "nyc_citibike_df['new_tripduration'] = new_tripduration_datetime\n",
    "\n",
    "# Convert the numeric gender values to string values \n",
    "nyc_citibike_df['gender'].replace([0,1,2],['Unknown','Male','Female'],inplace=True)\n",
    "nyc_citibike_df.head()"
   ]
  },
  {
   "cell_type": "code",
   "execution_count": null,
   "metadata": {},
   "outputs": [],
   "source": [
    "# 4. Check the datatypes of your columns. \n",
    "nyc_citibike_df.info()"
   ]
  },
  {
   "cell_type": "code",
   "execution_count": null,
   "metadata": {},
   "outputs": [],
   "source": [
    "# 5. Export the Dataframe as a new CSV file without the index.\n",
    "nyc_citibike_df.to_csv('201908_citibike_updt.csv', index=False)\n",
    "nyc_citibike_df.head()"
   ]
  }
 ],
 "metadata": {
  "kernelspec": {
   "display_name": "Python 3.10.6 64-bit (windows store)",
   "language": "python",
   "name": "python3"
  },
  "language_info": {
   "codemirror_mode": {
    "name": "ipython",
    "version": 3
   },
   "file_extension": ".py",
   "mimetype": "text/x-python",
   "name": "python",
   "nbconvert_exporter": "python",
   "pygments_lexer": "ipython3",
   "version": "3.10.7"
  },
  "vscode": {
   "interpreter": {
    "hash": "d249cf2c15980c8cab5d5849a434cad6becdd0f296ae60611f7d8c9e330ee9b0"
   }
  }
 },
 "nbformat": 4,
 "nbformat_minor": 4
}
